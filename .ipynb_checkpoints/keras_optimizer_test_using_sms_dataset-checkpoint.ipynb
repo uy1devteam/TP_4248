{
 "cells": [
  {
   "cell_type": "markdown",
   "metadata": {},
   "source": [
    "# TP 4248 2021-2022 \n",
    "## les membres du groupe\n",
    "- fezeu Ghomsi Eugene Clotaire 17Q2864 \n",
    "- Nono Mabou Wilfried Brondon 21S2817 brondonnono3@gmail.com\n",
    "- NGBAYAFOU NGOUH Chéripha Cheriphalynette@gmail.com\n",
    "- Junior Libii junior.libii@facsciences-uy1.cm"
   ]
  },
  {
   "cell_type": "markdown",
   "metadata": {},
   "source": [
    "## binary naive bayes classification on sms dataset\n",
    "on s'interesse ici a la presence ou l'abscende d'un mot dans corpus pour pour determiner si c'est un spam ou un ham"
   ]
  },
  {
   "cell_type": "code",
   "execution_count": 4,
   "metadata": {},
   "outputs": [],
   "source": [
    "# -*- coding: utf-8 -*-"
   ]
  },
  {
   "cell_type": "code",
   "execution_count": 2,
   "metadata": {},
   "outputs": [],
   "source": [
    "import os.path\n",
    "from os import path\n",
    "import getpass\n",
    "filepath = ''\n",
    "REPOPATH = 'fez2000/TP_4248.git'\n",
    "FILENAME= 'spam.csv'\n",
    "HOST='github.com'\n",
    "if path.exists(f'./{FILENAME}'):\n",
    "    filepath = f'./{FILENAME}'\n",
    "elif path.exists(f'./datas/{FILENAME}'):\n",
    "    filepath = f'./datas/{FILENAME}'\n",
    "else:\n",
    "    filepath = f'./datas/{FILENAME}'\n",
    "    def load_from_git():\n",
    "        def clone(): \n",
    "            GIT_PATH = f'https://{HOST}/{REPOPATH}' \n",
    "            !git clone {GIT_PATH} 'temp'\n",
    "        def clone_by_token():\n",
    "            GIT_TOKEN= getpass.getpass(\"votre token git\") \n",
    "            GIT_PATH = f'https://{GIT_TOKEN}@{HOST}/{REPOPATH}' \n",
    "            !git clone {GIT_PATH} 'temp'\n",
    "        def clone_by_username_and_password():\n",
    "            GIT_USER_NAME= getpass.getpass(\"votre nom d'utilisateur git\")\n",
    "            GIT_PASSWORD= getpass.getpass(\"votre mot de pass git\")\n",
    "            GIT_PATH = f'https://{GIT_USER_NAME}:{GIT_PASSWORD}@{HOST}/{REPOPATH}'\n",
    "            !git  clone  {GIT_PATH} 'temp' \n",
    "        if not path.exists(f'./temp/datas/{FILENAME}'):\n",
    "            try:\n",
    "                clone()\n",
    "            except e:\n",
    "                pass\n",
    "        if not path.exists(f'./temp/datas/{FILENAME}'):\n",
    "            try:\n",
    "                clone_by_username_and_password()\n",
    "            except e:\n",
    "                pass\n",
    "        if not path.exists(f'./temp/datas/{FILENAME}'):\n",
    "            try:\n",
    "                clone_by_token()\n",
    "            except e:\n",
    "                pass\n",
    "        if not path.exists(f'./temp/datas/{FILENAME}'):     \n",
    "            load_from_git()\n",
    "        else:\n",
    "            %cd './temp'\n",
    "\n",
    "    load_from_git()"
   ]
  },
  {
   "cell_type": "code",
   "execution_count": 42,
   "metadata": {},
   "outputs": [
    {
     "name": "stdout",
     "output_type": "stream",
     "text": [
      "Requirement already satisfied: ipykernel in /home/eugene/anaconda3/lib/python3.9/site-packages (6.4.1)\n",
      "Requirement already satisfied: ipython-genutils in /home/eugene/anaconda3/lib/python3.9/site-packages (from ipykernel) (0.2.0)\n",
      "Requirement already satisfied: debugpy<2.0,>=1.0.0 in /home/eugene/anaconda3/lib/python3.9/site-packages (from ipykernel) (1.4.1)\n",
      "Requirement already satisfied: tornado<7.0,>=4.2 in /home/eugene/anaconda3/lib/python3.9/site-packages (from ipykernel) (6.1)\n",
      "Requirement already satisfied: matplotlib-inline<0.2.0,>=0.1.0 in /home/eugene/anaconda3/lib/python3.9/site-packages (from ipykernel) (0.1.2)\n",
      "Requirement already satisfied: traitlets<6.0,>=4.1.0 in /home/eugene/anaconda3/lib/python3.9/site-packages (from ipykernel) (5.1.0)\n",
      "Requirement already satisfied: jupyter-client<8.0 in /home/eugene/anaconda3/lib/python3.9/site-packages (from ipykernel) (6.1.12)\n",
      "Requirement already satisfied: ipython<8.0,>=7.23.1 in /home/eugene/anaconda3/lib/python3.9/site-packages (from ipykernel) (7.29.0)\n",
      "Requirement already satisfied: jedi>=0.16 in /home/eugene/anaconda3/lib/python3.9/site-packages (from ipython<8.0,>=7.23.1->ipykernel) (0.18.0)\n",
      "Requirement already satisfied: pickleshare in /home/eugene/anaconda3/lib/python3.9/site-packages (from ipython<8.0,>=7.23.1->ipykernel) (0.7.5)\n",
      "Requirement already satisfied: setuptools>=18.5 in /home/eugene/anaconda3/lib/python3.9/site-packages (from ipython<8.0,>=7.23.1->ipykernel) (58.0.4)\n",
      "Requirement already satisfied: pygments in /home/eugene/anaconda3/lib/python3.9/site-packages (from ipython<8.0,>=7.23.1->ipykernel) (2.10.0)\n",
      "Requirement already satisfied: backcall in /home/eugene/anaconda3/lib/python3.9/site-packages (from ipython<8.0,>=7.23.1->ipykernel) (0.2.0)\n",
      "Requirement already satisfied: prompt-toolkit!=3.0.0,!=3.0.1,<3.1.0,>=2.0.0 in /home/eugene/anaconda3/lib/python3.9/site-packages (from ipython<8.0,>=7.23.1->ipykernel) (3.0.20)\n",
      "Requirement already satisfied: decorator in /home/eugene/anaconda3/lib/python3.9/site-packages (from ipython<8.0,>=7.23.1->ipykernel) (5.1.0)\n",
      "Requirement already satisfied: pexpect>4.3 in /home/eugene/anaconda3/lib/python3.9/site-packages (from ipython<8.0,>=7.23.1->ipykernel) (4.8.0)\n",
      "Requirement already satisfied: parso<0.9.0,>=0.8.0 in /home/eugene/anaconda3/lib/python3.9/site-packages (from jedi>=0.16->ipython<8.0,>=7.23.1->ipykernel) (0.8.2)\n",
      "Requirement already satisfied: jupyter-core>=4.6.0 in /home/eugene/anaconda3/lib/python3.9/site-packages (from jupyter-client<8.0->ipykernel) (4.8.1)\n",
      "Requirement already satisfied: python-dateutil>=2.1 in /home/eugene/anaconda3/lib/python3.9/site-packages (from jupyter-client<8.0->ipykernel) (2.8.2)\n",
      "Requirement already satisfied: pyzmq>=13 in /home/eugene/anaconda3/lib/python3.9/site-packages (from jupyter-client<8.0->ipykernel) (22.2.1)\n",
      "Requirement already satisfied: ptyprocess>=0.5 in /home/eugene/anaconda3/lib/python3.9/site-packages (from pexpect>4.3->ipython<8.0,>=7.23.1->ipykernel) (0.7.0)\n",
      "Requirement already satisfied: wcwidth in /home/eugene/anaconda3/lib/python3.9/site-packages (from prompt-toolkit!=3.0.0,!=3.0.1,<3.1.0,>=2.0.0->ipython<8.0,>=7.23.1->ipykernel) (0.2.5)\n",
      "Requirement already satisfied: six>=1.5 in /home/eugene/anaconda3/lib/python3.9/site-packages (from python-dateutil>=2.1->jupyter-client<8.0->ipykernel) (1.16.0)\n",
      "Installed kernelspec venv in /home/eugene/.local/share/jupyter/kernels/venv\n",
      "Requirement already satisfied: gensim in /home/eugene/anaconda3/lib/python3.9/site-packages (4.1.2)\n",
      "Requirement already satisfied: numpy>=1.17.0 in /home/eugene/anaconda3/lib/python3.9/site-packages (from gensim) (1.20.3)\n",
      "Requirement already satisfied: smart-open>=1.8.1 in /home/eugene/anaconda3/lib/python3.9/site-packages (from gensim) (5.2.1)\n",
      "Requirement already satisfied: scipy>=0.18.1 in /home/eugene/anaconda3/lib/python3.9/site-packages (from gensim) (1.7.1)\n",
      "Requirement already satisfied: seaborn in /home/eugene/anaconda3/lib/python3.9/site-packages (0.11.2)\n",
      "Requirement already satisfied: matplotlib>=2.2 in /home/eugene/anaconda3/lib/python3.9/site-packages (from seaborn) (3.4.3)\n",
      "Requirement already satisfied: pandas>=0.23 in /home/eugene/anaconda3/lib/python3.9/site-packages (from seaborn) (1.3.4)\n",
      "Requirement already satisfied: numpy>=1.15 in /home/eugene/anaconda3/lib/python3.9/site-packages (from seaborn) (1.20.3)\n",
      "Requirement already satisfied: scipy>=1.0 in /home/eugene/anaconda3/lib/python3.9/site-packages (from seaborn) (1.7.1)\n",
      "Requirement already satisfied: cycler>=0.10 in /home/eugene/anaconda3/lib/python3.9/site-packages (from matplotlib>=2.2->seaborn) (0.10.0)\n",
      "Requirement already satisfied: python-dateutil>=2.7 in /home/eugene/anaconda3/lib/python3.9/site-packages (from matplotlib>=2.2->seaborn) (2.8.2)\n",
      "Requirement already satisfied: pillow>=6.2.0 in /home/eugene/anaconda3/lib/python3.9/site-packages (from matplotlib>=2.2->seaborn) (8.4.0)\n",
      "Requirement already satisfied: kiwisolver>=1.0.1 in /home/eugene/anaconda3/lib/python3.9/site-packages (from matplotlib>=2.2->seaborn) (1.3.1)\n",
      "Requirement already satisfied: pyparsing>=2.2.1 in /home/eugene/anaconda3/lib/python3.9/site-packages (from matplotlib>=2.2->seaborn) (3.0.4)\n",
      "Requirement already satisfied: six in /home/eugene/anaconda3/lib/python3.9/site-packages (from cycler>=0.10->matplotlib>=2.2->seaborn) (1.16.0)\n",
      "Requirement already satisfied: pytz>=2017.3 in /home/eugene/anaconda3/lib/python3.9/site-packages (from pandas>=0.23->seaborn) (2021.3)\n",
      "Requirement already satisfied: pandas in /home/eugene/anaconda3/lib/python3.9/site-packages (1.3.4)\n",
      "Requirement already satisfied: python-dateutil>=2.7.3 in /home/eugene/anaconda3/lib/python3.9/site-packages (from pandas) (2.8.2)\n",
      "Requirement already satisfied: pytz>=2017.3 in /home/eugene/anaconda3/lib/python3.9/site-packages (from pandas) (2021.3)\n",
      "Requirement already satisfied: numpy>=1.17.3 in /home/eugene/anaconda3/lib/python3.9/site-packages (from pandas) (1.20.3)\n",
      "Requirement already satisfied: six>=1.5 in /home/eugene/anaconda3/lib/python3.9/site-packages (from python-dateutil>=2.7.3->pandas) (1.16.0)\n",
      "Requirement already satisfied: numpy in /home/eugene/anaconda3/lib/python3.9/site-packages (1.20.3)\n",
      "Requirement already satisfied: bs4 in /home/eugene/anaconda3/lib/python3.9/site-packages (0.0.1)\n",
      "Requirement already satisfied: beautifulsoup4 in /home/eugene/anaconda3/lib/python3.9/site-packages (from bs4) (4.10.0)\n",
      "Requirement already satisfied: soupsieve>1.2 in /home/eugene/anaconda3/lib/python3.9/site-packages (from beautifulsoup4->bs4) (2.2.1)\n",
      "Requirement already satisfied: BeautifulSoup4 in /home/eugene/anaconda3/lib/python3.9/site-packages (4.10.0)\n",
      "Requirement already satisfied: soupsieve>1.2 in /home/eugene/anaconda3/lib/python3.9/site-packages (from BeautifulSoup4) (2.2.1)\n",
      "Requirement already satisfied: lxml in /home/eugene/anaconda3/lib/python3.9/site-packages (4.6.3)\n",
      "Requirement already satisfied: nltk in /home/eugene/anaconda3/lib/python3.9/site-packages (3.6.5)\n",
      "Requirement already satisfied: click in /home/eugene/anaconda3/lib/python3.9/site-packages (from nltk) (8.0.3)\n",
      "Requirement already satisfied: joblib in /home/eugene/anaconda3/lib/python3.9/site-packages (from nltk) (1.1.0)\n",
      "Requirement already satisfied: regex>=2021.8.3 in /home/eugene/anaconda3/lib/python3.9/site-packages (from nltk) (2021.8.3)\n",
      "Requirement already satisfied: tqdm in /home/eugene/anaconda3/lib/python3.9/site-packages (from nltk) (4.62.3)\n",
      "showing info https://raw.githubusercontent.com/nltk/nltk_data/gh-pages/index.xml\n"
     ]
    },
    {
     "data": {
      "text/plain": [
       "True"
      ]
     },
     "execution_count": 42,
     "metadata": {},
     "output_type": "execute_result"
    }
   ],
   "source": [
    "!pip install --user ipykernel\n",
    "!python -m ipykernel install --user --name=venv\n",
    "!pip install gensim\n",
    "!pip install seaborn\n",
    "!pip install pandas\n",
    "!pip install numpy\n",
    "!pip install bs4\n",
    "!pip install BeautifulSoup4\n",
    "!pip install lxml\n",
    "!pip install nltk\n",
    "!python -m nltk.downloader all-nltk\n",
    "!pip install tqdm\n",
    "!pip install multiprocessing\n",
    "!pip install keras"
   ]
  },
  {
   "cell_type": "code",
   "execution_count": 10,
   "metadata": {},
   "outputs": [
    {
     "data": {
      "text/html": [
       "<div>\n",
       "<style scoped>\n",
       "    .dataframe tbody tr th:only-of-type {\n",
       "        vertical-align: middle;\n",
       "    }\n",
       "\n",
       "    .dataframe tbody tr th {\n",
       "        vertical-align: top;\n",
       "    }\n",
       "\n",
       "    .dataframe thead th {\n",
       "        text-align: right;\n",
       "    }\n",
       "</style>\n",
       "<table border=\"1\" class=\"dataframe\">\n",
       "  <thead>\n",
       "    <tr style=\"text-align: right;\">\n",
       "      <th></th>\n",
       "      <th>target</th>\n",
       "      <th>corpus</th>\n",
       "    </tr>\n",
       "  </thead>\n",
       "  <tbody>\n",
       "    <tr>\n",
       "      <th>0</th>\n",
       "      <td>ham</td>\n",
       "      <td>Go until jurong point, crazy.. Available only ...</td>\n",
       "    </tr>\n",
       "    <tr>\n",
       "      <th>1</th>\n",
       "      <td>ham</td>\n",
       "      <td>Ok lar... Joking wif u oni...</td>\n",
       "    </tr>\n",
       "    <tr>\n",
       "      <th>2</th>\n",
       "      <td>spam</td>\n",
       "      <td>Free entry in 2 a wkly comp to win FA Cup fina...</td>\n",
       "    </tr>\n",
       "    <tr>\n",
       "      <th>3</th>\n",
       "      <td>ham</td>\n",
       "      <td>U dun say so early hor... U c already then say...</td>\n",
       "    </tr>\n",
       "    <tr>\n",
       "      <th>4</th>\n",
       "      <td>ham</td>\n",
       "      <td>Nah I don't think he goes to usf, he lives aro...</td>\n",
       "    </tr>\n",
       "    <tr>\n",
       "      <th>5</th>\n",
       "      <td>spam</td>\n",
       "      <td>FreeMsg Hey there darling it's been 3 week's n...</td>\n",
       "    </tr>\n",
       "    <tr>\n",
       "      <th>6</th>\n",
       "      <td>ham</td>\n",
       "      <td>Even my brother is not like to speak with me. ...</td>\n",
       "    </tr>\n",
       "    <tr>\n",
       "      <th>7</th>\n",
       "      <td>ham</td>\n",
       "      <td>As per your request 'Melle Melle (Oru Minnamin...</td>\n",
       "    </tr>\n",
       "    <tr>\n",
       "      <th>8</th>\n",
       "      <td>spam</td>\n",
       "      <td>WINNER!! As a valued network customer you have...</td>\n",
       "    </tr>\n",
       "    <tr>\n",
       "      <th>9</th>\n",
       "      <td>spam</td>\n",
       "      <td>Had your mobile 11 months or more? U R entitle...</td>\n",
       "    </tr>\n",
       "  </tbody>\n",
       "</table>\n",
       "</div>"
      ],
      "text/plain": [
       "  target                                             corpus\n",
       "0    ham  Go until jurong point, crazy.. Available only ...\n",
       "1    ham                      Ok lar... Joking wif u oni...\n",
       "2   spam  Free entry in 2 a wkly comp to win FA Cup fina...\n",
       "3    ham  U dun say so early hor... U c already then say...\n",
       "4    ham  Nah I don't think he goes to usf, he lives aro...\n",
       "5   spam  FreeMsg Hey there darling it's been 3 week's n...\n",
       "6    ham  Even my brother is not like to speak with me. ...\n",
       "7    ham  As per your request 'Melle Melle (Oru Minnamin...\n",
       "8   spam  WINNER!! As a valued network customer you have...\n",
       "9   spam  Had your mobile 11 months or more? U R entitle..."
      ]
     },
     "execution_count": 10,
     "metadata": {},
     "output_type": "execute_result"
    }
   ],
   "source": [
    "import pandas as pd\n",
    "import re\n",
    "import numpy as np\n",
    "dataset = pd.read_csv(filepath, encoding=\"ISO-8859-1\", usecols=['v1', 'v2'], dtype={'v1':str,'v2':str})\n",
    "dataset = dataset.dropna(how=\"any\")\n",
    "dataset.rename(columns={'v2':'corpus', \"v1\": \"target\"}, inplace=True)\n",
    "dataset.head(10)"
   ]
  },
  {
   "cell_type": "code",
   "execution_count": 15,
   "metadata": {},
   "outputs": [],
   "source": [
    "import pandas as pd\n",
    "import numpy as np\n",
    "from tqdm import tqdm\n",
    "tqdm.pandas(desc=\"progress-bar\")\n",
    "from gensim.models import Doc2Vec\n",
    "from sklearn import utils\n",
    "from sklearn.model_selection import train_test_split\n",
    "import gensim\n",
    "from sklearn.linear_model import LogisticRegression\n",
    "from gensim.models.doc2vec import TaggedDocument\n",
    "import re\n",
    "import seaborn as sns\n",
    "import matplotlib.pyplot as plt"
   ]
  },
  {
   "cell_type": "code",
   "execution_count": 14,
   "metadata": {},
   "outputs": [
    {
     "name": "stdout",
     "output_type": "stream",
     "text": [
      "(5572, 2)\n"
     ]
    }
   ],
   "source": [
    "print(dataset.shape)"
   ]
  },
  {
   "cell_type": "code",
   "execution_count": 13,
   "metadata": {},
   "outputs": [
    {
     "data": {
      "text/plain": [
       "86961"
      ]
     },
     "execution_count": 13,
     "metadata": {},
     "output_type": "execute_result"
    }
   ],
   "source": [
    "dataset['corpus'].apply(lambda x: len(x.split(' '))).sum()"
   ]
  },
  {
   "cell_type": "markdown",
   "metadata": {},
   "source": [
    "on a 86961  words, c'est un petit dataset."
   ]
  },
  {
   "cell_type": "code",
   "execution_count": 22,
   "metadata": {},
   "outputs": [
    {
     "name": "stderr",
     "output_type": "stream",
     "text": [
      "/home/eugene/anaconda3/lib/python3.9/site-packages/seaborn/_decorators.py:36: FutureWarning: Pass the following variables as keyword args: x, y. From version 0.12, the only valid positional argument will be `data`, and passing other arguments without an explicit keyword will result in an error or misinterpretation.\n",
      "  warnings.warn(\n"
     ]
    },
    {
     "data": {
      "image/png": "[encoded data removed]",
      "text/plain": [
       "<Figure size 864x288 with 1 Axes>"
      ]
     },
     "metadata": {
      "needs_background": "light"
     },
     "output_type": "display_data"
    }
   ],
   "source": [
    "cnt_pro = dataset['target'].value_counts()\n",
    "\n",
    "plt.figure(figsize=(12,4))\n",
    "sns.barplot(cnt_pro.index, cnt_pro.values, alpha=0.9)\n",
    "plt.ylabel('Nombre d\\'occurence', fontsize=12)\n",
    "plt.xlabel('Messages', fontsize=12)\n",
    "plt.xticks(rotation=90)\n",
    "plt.show();"
   ]
  },
  {
   "cell_type": "markdown",
   "metadata": {},
   "source": [
    "### Text preprocessing\n",
    "\n",
    "Below we define a function to convert text to lower-case and strip punctuation/symbols from words and so on."
   ]
  },
  {
   "cell_type": "code",
   "execution_count": 11,
   "metadata": {},
   "outputs": [],
   "source": [
    "from bs4 import BeautifulSoup\n",
    "def cleanText(text):\n",
    "    text = BeautifulSoup(text, \"lxml\").text\n",
    "    text = re.sub(r'\\|\\|\\|', r' ', text) \n",
    "    text = re.sub(r'http\\S+', r'<URL>', text)\n",
    "    text = text.lower()\n",
    "    text = text.replace('x', '')\n",
    "    return text\n",
    "dataset['corpus'] = dataset['corpus'].apply(cleanText)"
   ]
  },
  {
   "cell_type": "code",
   "execution_count": 23,
   "metadata": {},
   "outputs": [
    {
     "data": {
      "text/plain": [
       "'Is that seriously how you spell his name?'"
      ]
     },
     "execution_count": 23,
     "metadata": {},
     "output_type": "execute_result"
    }
   ],
   "source": [
    "dataset['corpus'][20]"
   ]
  },
  {
   "cell_type": "markdown",
   "metadata": {},
   "source": [
    "Train/test split of 70/30."
   ]
  },
  {
   "cell_type": "code",
   "execution_count": 40,
   "metadata": {},
   "outputs": [],
   "source": [
    "train, test = train_test_split(dataset, test_size=0.3, random_state=42)\n",
    "train = pd.DataFrame(train)\n",
    "test = pd.DataFrame(test)"
   ]
  },
  {
   "cell_type": "code",
   "execution_count": 43,
   "metadata": {},
   "outputs": [
    {
     "name": "stdout",
     "output_type": "stream",
     "text": [
      "showing info https://raw.githubusercontent.com/nltk/nltk_data/gh-pages/index.xml\n"
     ]
    }
   ],
   "source": [
    "import nltk\n",
    "from nltk.corpus import stopwords\n",
    "def tokenize_text(text):\n",
    "    tokens = []\n",
    "    for sent in nltk.sent_tokenize(text):\n",
    "        for word in nltk.word_tokenize(sent):\n",
    "            if len(word) < 2:\n",
    "                continue\n",
    "            tokens.append(word.lower())\n",
    "    return tokens"
   ]
  },
  {
   "cell_type": "code",
   "execution_count": 47,
   "metadata": {},
   "outputs": [],
   "source": [
    "train_tagged = train.apply(\n",
    "    lambda r: TaggedDocument(words=tokenize_text(r['corpus']), tags=[r.target]), axis=1)\n",
    "test_tagged = test.apply(\n",
    "    lambda r: TaggedDocument(words=tokenize_text(r['corpus']), tags=[r.target]), axis=1)"
   ]
  },
  {
   "cell_type": "markdown",
   "metadata": {},
   "source": [
    "This is what a training entry looks like - an example complaint narrative tagged by 'Credit reporting'."
   ]
  },
  {
   "cell_type": "code",
   "execution_count": 55,
   "metadata": {},
   "outputs": [
    {
     "data": {
      "text/plain": [
       "TaggedDocument(words=['as', 'valued', 'customer', 'am', 'pleased', 'to', 'advise', 'you', 'that', 'following', 'recent', 'review', 'of', 'your', 'mob', 'no', 'you', 'are', 'awarded', 'with', 'å£1500', 'bonus', 'prize', 'call', '09066364589'], tags=['spam'])"
      ]
     },
     "execution_count": 55,
     "metadata": {},
     "output_type": "execute_result"
    }
   ],
   "source": [
    "train_tagged.values[30]"
   ]
  },
  {
   "cell_type": "markdown",
   "metadata": {},
   "source": [
    "## Training the model\n",
    "\n",
    "We'll instantiate a Doc2Vec model-Distributed Bag of Words (DBOW). In the Word2Vec architecture, the two algorithm names are “continuous bag of words” (cbow) and “skip-gram” (sg); in the Doc2Vec architecture, the corresponding algorithms are “distributed bag of words” (dbow) and “distributed memory” (dm)."
   ]
  },
  {
   "cell_type": "markdown",
   "metadata": {},
   "source": [
    "### DBOW\n",
    "\n",
    "DBOW is the Doc2Vec model analogous to Skip-gram model in Word2Vec. The paragraph vectors are obtained by training a neural network on the task of predicting a probability distribution of words in a paragraph given a randomly-sampled word from the paragraph.\n",
    "\n",
    "Training a Doc2Vec model is rather straight forward in Gensim, we initialize the model and train for 30 epochs:"
   ]
  },
  {
   "cell_type": "markdown",
   "metadata": {},
   "source": [
    "We set the minimum word count to 2 in order to discard words with very few occurrences. "
   ]
  },
  {
   "cell_type": "code",
   "execution_count": 49,
   "metadata": {},
   "outputs": [],
   "source": [
    "import multiprocessing\n",
    "\n",
    "cores = multiprocessing.cpu_count()"
   ]
  },
  {
   "cell_type": "markdown",
   "metadata": {},
   "source": [
    "Build a vocabulary"
   ]
  },
  {
   "cell_type": "code",
   "execution_count": 50,
   "metadata": {},
   "outputs": [
    {
     "name": "stderr",
     "output_type": "stream",
     "text": [
      "100%|██████████████████████████████████| 3900/3900 [00:00<00:00, 1799140.52it/s]\n"
     ]
    }
   ],
   "source": [
    "model_dbow = Doc2Vec(dm=0, vector_size=300, negative=1, hs=0, min_count=2, sample = 0, workers=cores)\n",
    "model_dbow.build_vocab([x for x in tqdm(train_tagged.values)])"
   ]
  },
  {
   "cell_type": "code",
   "execution_count": 51,
   "metadata": {},
   "outputs": [
    {
     "name": "stderr",
     "output_type": "stream",
     "text": [
      "100%|███████████████████████████████████| 3900/3900 [00:00<00:00, 990420.54it/s]\n",
      "100%|██████████████████████████████████| 3900/3900 [00:00<00:00, 1092266.67it/s]\n",
      "100%|██████████████████████████████████| 3900/3900 [00:00<00:00, 1108626.61it/s]\n",
      "100%|███████████████████████████████████| 3900/3900 [00:00<00:00, 946193.06it/s]\n",
      "100%|██████████████████████████████████| 3900/3900 [00:00<00:00, 1126026.41it/s]\n",
      "100%|██████████████████████████████████| 3900/3900 [00:00<00:00, 1071517.46it/s]\n",
      "100%|██████████████████████████████████| 3900/3900 [00:00<00:00, 1128356.60it/s]\n",
      "100%|███████████████████████████████████| 3900/3900 [00:00<00:00, 709511.41it/s]\n",
      "100%|██████████████████████████████████| 3900/3900 [00:00<00:00, 1133831.40it/s]\n",
      "100%|██████████████████████████████████| 3900/3900 [00:00<00:00, 1096145.92it/s]\n",
      "100%|██████████████████████████████████| 3900/3900 [00:00<00:00, 1067113.68it/s]\n",
      "100%|███████████████████████████████████| 3900/3900 [00:00<00:00, 789544.63it/s]\n",
      "100%|██████████████████████████████████| 3900/3900 [00:00<00:00, 1862437.16it/s]\n",
      "100%|██████████████████████████████████| 3900/3900 [00:00<00:00, 1122934.41it/s]\n",
      "100%|██████████████████████████████████| 3900/3900 [00:00<00:00, 1068926.72it/s]\n",
      "100%|██████████████████████████████████| 3900/3900 [00:00<00:00, 1066348.47it/s]\n",
      "100%|██████████████████████████████████| 3900/3900 [00:00<00:00, 1085885.93it/s]\n",
      "100%|██████████████████████████████████| 3900/3900 [00:00<00:00, 1077943.04it/s]\n",
      "100%|██████████████████████████████████| 3900/3900 [00:00<00:00, 1063505.99it/s]\n",
      "100%|██████████████████████████████████| 3900/3900 [00:00<00:00, 1071026.36it/s]\n",
      "100%|██████████████████████████████████| 3900/3900 [00:00<00:00, 1864347.57it/s]\n",
      "100%|██████████████████████████████████| 3900/3900 [00:00<00:00, 1883452.57it/s]\n",
      "100%|██████████████████████████████████| 3900/3900 [00:00<00:00, 1828502.75it/s]\n",
      "100%|██████████████████████████████████| 3900/3900 [00:00<00:00, 1567438.25it/s]\n",
      "100%|██████████████████████████████████| 3900/3900 [00:00<00:00, 1147351.17it/s]\n",
      "100%|██████████████████████████████████| 3900/3900 [00:00<00:00, 1825034.65it/s]\n",
      "100%|██████████████████████████████████| 3900/3900 [00:00<00:00, 1019049.69it/s]\n",
      "100%|██████████████████████████████████| 3900/3900 [00:00<00:00, 1132261.76it/s]\n",
      "100%|██████████████████████████████████| 3900/3900 [00:00<00:00, 2099844.11it/s]\n",
      "100%|███████████████████████████████████| 3900/3900 [00:00<00:00, 759132.43it/s]\n"
     ]
    },
    {
     "name": "stdout",
     "output_type": "stream",
     "text": [
      "CPU times: user 12.8 s, sys: 1.96 s, total: 14.8 s\n",
      "Wall time: 13 s\n"
     ]
    }
   ],
   "source": [
    "%%time\n",
    "for epoch in range(30):\n",
    "    model_dbow.train(utils.shuffle([x for x in tqdm(train_tagged.values)]), total_examples=len(train_tagged.values), epochs=1)\n",
    "    model_dbow.alpha -= 0.002\n",
    "    model_dbow.min_alpha = model_dbow.alpha"
   ]
  },
  {
   "cell_type": "markdown",
   "metadata": {},
   "source": [
    "### Buliding the final vector feature for the classifier."
   ]
  },
  {
   "cell_type": "code",
   "execution_count": 56,
   "metadata": {},
   "outputs": [],
   "source": [
    "def vec_for_learning(model, tagged_docs):\n",
    "    sents = tagged_docs.values\n",
    "    targets, regressors = zip(*[(doc.tags[0], model.infer_vector(doc.words, epochs=20)) for doc in sents])\n",
    "    return targets, regressors"
   ]
  },
  {
   "cell_type": "code",
   "execution_count": 58,
   "metadata": {},
   "outputs": [],
   "source": [
    "y_train, X_train = vec_for_learning(model_dbow, train_tagged)\n",
    "y_test, X_test = vec_for_learning(model_dbow, test_tagged)"
   ]
  },
  {
   "cell_type": "code",
   "execution_count": 62,
   "metadata": {},
   "outputs": [
    {
     "name": "stdout",
     "output_type": "stream",
     "text": [
      "[ 0.03571113 -0.04773352 -0.00297986 -0.06654188  0.0068793   0.04220202\n",
      "  0.00295033 -0.05952352 -0.01019549  0.03315803  0.00336303  0.0660561\n",
      " -0.05016128 -0.05537189 -0.02014884  0.04744243 -0.04940203 -0.02260786\n",
      " -0.01370318 -0.05024196  0.03640553 -0.04791223  0.01105853 -0.07565711\n",
      " -0.00897265 -0.05130642  0.024321    0.0343744  -0.02467817  0.06680127\n",
      "  0.00734496 -0.01123223 -0.00617851 -0.03988732  0.01601493  0.00032979\n",
      "  0.0555184   0.05155416  0.004037    0.01650216  0.0169077  -0.03865867\n",
      "  0.03898536 -0.03724897  0.02637657  0.05778997  0.05720648 -0.03174689\n",
      "  0.02082513 -0.05648934  0.04682509 -0.03764121  0.01192773 -0.03498435\n",
      "  0.00840598  0.024321    0.07281497 -0.04135811  0.06120026  0.00879783\n",
      " -0.02643413 -0.08159772  0.01940163  0.01306247 -0.03852598 -0.03161618\n",
      "  0.01707003  0.02965093  0.03260591 -0.04472204  0.04583102  0.04558317\n",
      "  0.05254395  0.03311851 -0.0508517   0.00587393 -0.05970398  0.06748599\n",
      " -0.02062179 -0.06789902  0.06283931  0.00465798  0.07401953 -0.05202137\n",
      "  0.0080727  -0.04805981  0.03209688 -0.017537    0.02166781  0.06352878\n",
      "  0.0304405  -0.00253459  0.07702004  0.00763815  0.04604322 -0.05003387\n",
      "  0.02836852 -0.06974556 -0.01757402  0.01676044  0.05760547  0.05555591\n",
      "  0.04131363  0.00833237  0.07396737  0.03256504  0.02105414 -0.07631657\n",
      "  0.00295199 -0.03631018  0.01238201  0.01817996 -0.04253643 -0.04227756\n",
      " -0.01708189 -0.03087614  0.06848974 -0.03885644  0.0085157  -0.04725134\n",
      "  0.01216617 -0.01980411 -0.0301297   0.04763692  0.03835158 -0.03161638\n",
      "  0.00596068 -0.00682322  0.01539159 -0.04124466 -0.06336802 -0.06588695\n",
      "  0.02347478 -0.07733271 -0.02488352 -0.04083013  0.01667918  0.03226714\n",
      " -0.02598579 -0.00633587  0.06541766 -0.04053304  0.05133019  0.07722069\n",
      "  0.07416929 -0.02973581 -0.07021787  0.03731751 -0.00131188  0.00248721\n",
      " -0.00647897  0.06083776 -0.02527338 -0.04125046  0.02255652  0.03180037\n",
      " -0.06916939  0.01890177 -0.00112171 -0.02212432 -0.05811356  0.03654042\n",
      "  0.00407327 -0.04417701 -0.01341264 -0.02129643 -0.03669411 -0.04897603\n",
      " -0.02851509  0.02500581 -0.05729961  0.03615751  0.0047766   0.00976499\n",
      "  0.00187961 -0.07410628 -0.00720128  0.0650818   0.01488605  0.07019456\n",
      "  0.01871601 -0.01571572  0.03404552  0.06458125 -0.01836077  0.05166467\n",
      "  0.00724134  0.04573429  0.04806056 -0.06493276 -0.00989131  0.04097109\n",
      " -0.03931967  0.04170916  0.01397002 -0.00240656  0.06569453 -0.05105603\n",
      "  0.02540092  0.00580324  0.0332139   0.0644355  -0.000221   -0.04860524\n",
      " -0.05632579 -0.02913544 -0.00065963  0.00352724  0.05917476 -0.00668668\n",
      "  0.05977214 -0.06226814 -0.04282831  0.04890362  0.00702751 -0.03374684\n",
      "  0.03486181 -0.06129066 -0.03676059 -0.03461314 -0.02226151  0.0713445\n",
      "  0.04436738 -0.00416697  0.03365466  0.04717316  0.06352049  0.0365536\n",
      "  0.06863959  0.00118916 -0.0450221   0.05214525 -0.0395122  -0.04290506\n",
      " -0.06267947 -0.05056123 -0.01075253  0.03798265  0.01279725  0.00651295\n",
      "  0.01168644  0.05248295 -0.01755264  0.05335714 -0.0172508  -0.02177083\n",
      " -0.03792901  0.04366538  0.00753011  0.00997444 -0.02173154 -0.03428858\n",
      " -0.01848297  0.06479443  0.00797789  0.06053698  0.04570821 -0.07036191\n",
      " -0.04628941  0.03817967 -0.07390779  0.00972168  0.05314245 -0.02726971\n",
      " -0.01745004 -0.01466418 -0.05787672 -0.00152818 -0.03283507 -0.03918359\n",
      "  0.05840761  0.01320727  0.0514859   0.0327695  -0.05333365  0.01436858\n",
      "  0.00140521  0.06816036  0.01663168 -0.04671584 -0.02954317 -0.01354698\n",
      " -0.04726322 -0.0464755   0.07728073 -0.06948481  0.06410676  0.06113128\n",
      "  0.02072756 -0.01297507  0.0475206   0.00516768 -0.00107832  0.02432996\n",
      "  0.00359667  0.04314024  0.03978898  0.0376142   0.02178841 -0.02676644]\n"
     ]
    }
   ],
   "source": [
    "print(X_train[1])"
   ]
  },
  {
   "cell_type": "code",
   "execution_count": 23,
   "metadata": {},
   "outputs": [],
   "source": [
    "logreg = LogisticRegression(n_jobs=1, C=1e5)\n",
    "logreg.fit(X_train, y_train)\n",
    "y_pred = logreg.predict(X_test)"
   ]
  },
  {
   "cell_type": "code",
   "execution_count": 24,
   "metadata": {},
   "outputs": [
    {
     "name": "stdout",
     "output_type": "stream",
     "text": [
      "Testing accuracy 0.6683609437751004\n",
      "Testing F1 score: 0.651646431211616\n"
     ]
    }
   ],
   "source": [
    "from sklearn.metrics import accuracy_score, f1_score\n",
    "\n",
    "print('Testing accuracy %s' % accuracy_score(y_test, y_pred))\n",
    "print('Testing F1 score: {}'.format(f1_score(y_test, y_pred, average='weighted')))"
   ]
  },
  {
   "cell_type": "markdown",
   "metadata": {},
   "source": [
    "### Distributed Memory with Averaging\n",
    "\n",
    "Distributed Memory (DM) acts as a memory that remembers what is missing from the current context — or as the topic of the paragraph. While the word vectors represent the concept of a word, the document vector intends to represent the concept of a document.\n",
    "We again instantiate a Doc2Vec model with a vector size with 300 words and iterating over the training corpus 30 times."
   ]
  },
  {
   "cell_type": "code",
   "execution_count": 35,
   "metadata": {},
   "outputs": [
    {
     "name": "stderr",
     "output_type": "stream",
     "text": [
      "100%|██████████| 223102/223102 [00:00<00:00, 1886113.74it/s]\n"
     ]
    }
   ],
   "source": [
    "model_dmm = Doc2Vec(dm=1, dm_mean=1, vector_size=300, window=10, negative=5, min_count=1, workers=5, alpha=0.065, min_alpha=0.065)\n",
    "model_dmm.build_vocab([x for x in tqdm(train_tagged.values)])"
   ]
  },
  {
   "cell_type": "code",
   "execution_count": 36,
   "metadata": {},
   "outputs": [
    {
     "name": "stderr",
     "output_type": "stream",
     "text": [
      "100%|██████████| 223102/223102 [00:00<00:00, 2855531.31it/s]\n",
      "100%|██████████| 223102/223102 [00:00<00:00, 1578083.26it/s]\n",
      "100%|██████████| 223102/223102 [00:00<00:00, 1745168.51it/s]\n",
      "100%|██████████| 223102/223102 [00:00<00:00, 1854244.79it/s]\n",
      "100%|██████████| 223102/223102 [00:00<00:00, 1893698.00it/s]\n",
      "100%|██████████| 223102/223102 [00:00<00:00, 1885653.85it/s]\n",
      "100%|██████████| 223102/223102 [00:00<00:00, 1869836.11it/s]\n",
      "100%|██████████| 223102/223102 [00:00<00:00, 1869832.37it/s]\n",
      "100%|██████████| 223102/223102 [00:00<00:00, 2445159.40it/s]\n",
      "100%|██████████| 223102/223102 [00:00<00:00, 2022787.35it/s]\n",
      "100%|██████████| 223102/223102 [00:00<00:00, 1165813.40it/s]\n",
      "100%|██████████| 223102/223102 [00:00<00:00, 2379542.86it/s]\n",
      "100%|██████████| 223102/223102 [00:00<00:00, 2379585.22it/s]\n",
      "100%|██████████| 223102/223102 [00:00<00:00, 1784628.78it/s]\n",
      "100%|██████████| 223102/223102 [00:00<00:00, 1784628.78it/s]\n",
      "100%|██████████| 223102/223102 [00:00<00:00, 1940508.05it/s]\n",
      "100%|██████████| 223102/223102 [00:00<00:00, 2039602.98it/s]\n",
      "100%|██████████| 223102/223102 [00:00<00:00, 1104039.77it/s]\n",
      "100%|██████████| 223102/223102 [00:00<00:00, 2039647.44it/s]\n",
      "100%|██████████| 223102/223102 [00:00<00:00, 2039562.97it/s]\n",
      "100%|██████████| 223102/223102 [00:00<00:00, 2379573.12it/s]\n",
      "100%|██████████| 223102/223102 [00:00<00:00, 2855418.04it/s]\n",
      "100%|██████████| 223102/223102 [00:00<00:00, 2379506.56it/s]\n",
      "100%|██████████| 223102/223102 [00:00<00:00, 2039554.08it/s]\n",
      "100%|██████████| 223102/223102 [00:00<00:00, 1784632.19it/s]\n",
      "100%|██████████| 223102/223102 [00:00<00:00, 1751177.79it/s]\n",
      "100%|██████████| 223102/223102 [00:00<00:00, 1892361.48it/s]\n",
      "100%|██████████| 223102/223102 [00:00<00:00, 1959722.32it/s]\n",
      "100%|██████████| 223102/223102 [00:00<00:00, 1649827.85it/s]\n",
      "100%|██████████| 223102/223102 [00:00<00:00, 2778023.03it/s]\n"
     ]
    },
    {
     "name": "stdout",
     "output_type": "stream",
     "text": [
      "Wall time: 33min 28s\n"
     ]
    }
   ],
   "source": [
    "%%time\n",
    "for epoch in range(30):\n",
    "    model_dmm.train(utils.shuffle([x for x in tqdm(train_tagged.values)]), total_examples=len(train_tagged.values), epochs=1)\n",
    "    model_dmm.alpha -= 0.002\n",
    "    model_dmm.min_alpha = model_dmm.alpha"
   ]
  },
  {
   "cell_type": "markdown",
   "metadata": {},
   "source": [
    "### Train Logistic Regression"
   ]
  },
  {
   "cell_type": "code",
   "execution_count": 37,
   "metadata": {},
   "outputs": [
    {
     "name": "stdout",
     "output_type": "stream",
     "text": [
      "Testing accuracy 0.47498326639892907\n",
      "Testing F1 score: 0.4445833078167434\n"
     ]
    }
   ],
   "source": [
    "y_train, X_train = vec_for_learning(model_dmm, train_tagged)\n",
    "y_test, X_test = vec_for_learning(model_dmm, test_tagged)\n",
    "\n",
    "logreg.fit(X_train, y_train)\n",
    "y_pred = logreg.predict(X_test)\n",
    "\n",
    "print('Testing accuracy %s' % accuracy_score(y_test, y_pred))\n",
    "print('Testing F1 score: {}'.format(f1_score(y_test, y_pred, average='weighted')))"
   ]
  },
  {
   "cell_type": "code",
   "execution_count": 42,
   "metadata": {},
   "outputs": [],
   "source": [
    "model_dbow.delete_temporary_training_data(keep_doctags_vectors=True, keep_inference=True)\n",
    "model_dmm.delete_temporary_training_data(keep_doctags_vectors=True, keep_inference=True)"
   ]
  },
  {
   "cell_type": "code",
   "execution_count": 46,
   "metadata": {},
   "outputs": [],
   "source": [
    "from gensim.test.test_doc2vec import ConcatenatedDoc2Vec\n",
    "new_model = ConcatenatedDoc2Vec([model_dbow, model_dmm])"
   ]
  },
  {
   "cell_type": "code",
   "execution_count": 48,
   "metadata": {},
   "outputs": [],
   "source": [
    "def get_vectors(model, tagged_docs):\n",
    "    sents = tagged_docs.values\n",
    "    targets, regressors = zip(*[(doc.tags[0], model.infer_vector(doc.words, steps=20)) for doc in sents])\n",
    "    return targets, regressors"
   ]
  },
  {
   "cell_type": "code",
   "execution_count": 49,
   "metadata": {},
   "outputs": [],
   "source": [
    "y_train, X_train = get_vectors(new_model, train_tagged)\n",
    "y_test, X_test = get_vectors(new_model, test_tagged)"
   ]
  },
  {
   "cell_type": "code",
   "execution_count": 50,
   "metadata": {},
   "outputs": [
    {
     "name": "stdout",
     "output_type": "stream",
     "text": [
      "Testing accuracy 0.6778572623828648\n",
      "Testing F1 score: 0.664561533967402\n"
     ]
    }
   ],
   "source": [
    "logreg.fit(X_train, y_train)\n",
    "y_pred = logreg.predict(X_test)\n",
    "\n",
    "print('Testing accuracy %s' % accuracy_score(y_test, y_pred))\n",
    "print('Testing F1 score: {}'.format(f1_score(y_test, y_pred, average='weighted')))"
   ]
  },
  {
   "cell_type": "code",
   "execution_count": null,
   "metadata": {},
   "outputs": [],
   "source": []
  }
 ],
 "metadata": {
  "kernelspec": {
   "display_name": "venv",
   "language": "python",
   "name": "venv"
  },
  "language_info": {
   "codemirror_mode": {
    "name": "ipython",
    "version": 3
   },
   "file_extension": ".py",
   "mimetype": "text/x-python",
   "name": "python",
   "nbconvert_exporter": "python",
   "pygments_lexer": "ipython3",
   "version": "3.9.7"
  }
 },
 "nbformat": 4,
 "nbformat_minor": 4
}
