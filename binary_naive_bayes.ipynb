{
 "cells": [
  {
   "cell_type": "markdown",
   "id": "040b179b",
   "metadata": {
    "id": "040b179b"
   },
   "source": [
    "# TP 4248 2021-2022 \n",
    "## les membres du groupe\n",
    "- fezeu Ghomsi Eugene Clotaire 17Q2864 \n",
    "- Nono Mabou Wilfried Brondon 21S2817 brondonnono3@gmail.com\n",
    "- NGBAYAFOU NGOUH Chéripha Cheriphalynette@gmail.com\n",
    "- Junior Libii junior.libii@facsciences-uy1.cm"
   ]
  },
  {
   "cell_type": "markdown",
   "id": "igKtTeiTXsYC",
   "metadata": {
    "id": "igKtTeiTXsYC"
   },
   "source": [
    "## binary naive bayes classification on sms dataset\n"
   ]
  },
  {
   "cell_type": "code",
   "execution_count": 41,
   "id": "849c615a",
   "metadata": {
    "colab": {
     "base_uri": "https://localhost:8080/",
     "height": 527
    },
    "id": "849c615a",
    "outputId": "8f83b6dd-8c64-4f37-f6f1-6156930d9451"
   },
   "outputs": [],
   "source": [
    "\n",
    "import pandas as pd\n",
    "import re\n",
    "import numpy as np\n",
    "\n",
    "dataset = pd.read_csv(\"./datas/spam.csv\", encoding=\"ISO-8859-1\", usecols=['v1', 'v2'], dtype={'v1':str,'v2':str})\n",
    "dataset.head()\n",
    "dataset = dataset.dropna(how=\"any\")\n",
    "\n",
    "\n"
   ]
  },
  {
   "cell_type": "code",
   "execution_count": 35,
   "id": "3ff4af2a",
   "metadata": {},
   "outputs": [
    {
     "name": "stdout",
     "output_type": "stream",
     "text": [
      "Requirement already satisfied: nltk in /home/eugene/.local/lib/python3.8/site-packages (3.7)\n",
      "Requirement already satisfied: tqdm in /home/eugene/.local/lib/python3.8/site-packages (from nltk) (4.61.0)\n",
      "Requirement already satisfied: click in /usr/lib/python3/dist-packages (from nltk) (7.0)\n",
      "Requirement already satisfied: regex>=2021.8.3 in /home/eugene/.local/lib/python3.8/site-packages (from nltk) (2022.3.15)\n",
      "Requirement already satisfied: joblib in /home/eugene/.local/lib/python3.8/site-packages (from nltk) (1.0.1)\n"
     ]
    },
    {
     "name": "stderr",
     "output_type": "stream",
     "text": [
      "[nltk_data] Downloading package stopwords to /home/eugene/nltk_data...\n",
      "[nltk_data]   Package stopwords is already up-to-date!\n"
     ]
    }
   ],
   "source": [
    "!pip install nltk\n",
    "import nltk\n",
    "nltk.download('stopwords')\n",
    "# ensemble de mots sans sens pas utilise pour la pertinence\n",
    "# cette suppression offre un gain temps \n",
    "stopwords = nltk.corpus.stopwords.words('english')\n",
    "\n",
    "#importing the Stemming function from nltk library\n",
    "from nltk.stem.porter import PorterStemmer\n",
    "#defining the object for stemming\n",
    "porter_stemmer = PorterStemmer()\n",
    "\n",
    "\n",
    "\n"
   ]
  },
  {
   "cell_type": "code",
   "execution_count": null,
   "id": "f2i5mXmcnXgU",
   "metadata": {
    "colab": {
     "base_uri": "https://localhost:8080/",
     "height": 1000
    },
    "id": "f2i5mXmcnXgU",
    "outputId": "d3c3ea08-0b99-46db-d0a8-36754418f7dc"
   },
   "outputs": [
    {
     "name": "stderr",
     "output_type": "stream",
     "text": [
      "/home/eugene/.local/lib/python3.8/site-packages/numpy/core/_asarray.py:83: VisibleDeprecationWarning: Creating an ndarray from ragged nested sequences (which is a list-or-tuple of lists-or-tuples-or ndarrays with different lengths or shapes) is deprecated. If you meant to do this, you must specify 'dtype=object' when creating the ndarray\n",
      "  return array(a, dtype, copy=False, order=order)\n"
     ]
    }
   ],
   "source": [
    "def tonkenizer(text):\n",
    "    return re.sub(r\"[^a-zA-Z0-9]\", \" \", text.lower().strip()).split()\n",
    "def remove_stopwords(text):\n",
    "    return[i for i in text if i not in stopwords]\n",
    "# la lematisation reduit la taille du vecteur resultat et augmente la pertinence du model \n",
    "def stemming(text):\n",
    "    stem_text = [porter_stemmer.stem(word) for word in text]\n",
    "    return stem_text\n",
    "\n",
    "def cleantext (text):\n",
    "    return stemming(remove_stopwords(tonkenizer(text)))\n",
    "def clean_and_binarise_text(row):\n",
    "    return   [(row[0] == 'ham' and 1) or 0 , cleantext(row[1])]    \n",
    "\n",
    "dataset_r = dataset.apply(clean_and_binarise_text, axis=1, result_type='broadcast')\n"
   ]
  },
  {
   "cell_type": "code",
   "execution_count": 71,
   "id": "731d3600",
   "metadata": {},
   "outputs": [
    {
     "data": {
      "text/plain": [
       "7191"
      ]
     },
     "execution_count": 71,
     "metadata": {},
     "output_type": "execute_result"
    }
   ],
   "source": [
    "wordset = [] \n",
    "def creer_wordset(words): \n",
    "    global wordset\n",
    "    wordset = np.union1d(wordset, words)\n",
    "dataset_r.v2.apply(creer_wordset);\n",
    "dataset_r.v2\n",
    "len(wordset)\n"
   ]
  }
 ],
 "metadata": {
  "colab": {
   "name": "Copie de binary_naive_bayes.ipynb",
   "provenance": []
  },
  "kernelspec": {
   "display_name": "Python 3",
   "language": "python",
   "name": "python3"
  },
  "language_info": {
   "codemirror_mode": {
    "name": "ipython",
    "version": 3
   },
   "file_extension": ".py",
   "mimetype": "text/x-python",
   "name": "python",
   "nbconvert_exporter": "python",
   "pygments_lexer": "ipython3",
   "version": "3.8.10"
  }
 },
 "nbformat": 4,
 "nbformat_minor": 5
}
