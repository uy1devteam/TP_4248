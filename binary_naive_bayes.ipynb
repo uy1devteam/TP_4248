{
 "cells": [
  {
   "cell_type": "markdown",
   "id": "040b179b",
   "metadata": {
    "id": "040b179b"
   },
   "source": [
    "# TP 4248 2021-2022 \n",
    "## les membres du groupe\n",
    "- fezeu Ghomsi Eugene Clotaire 17Q2864 \n",
    "- Nono Mabou Wilfried Brondon 21S2817 brondonnono3@gmail.com\n",
    "- NGBAYAFOU NGOUH Chéripha Cheriphalynette@gmail.com\n",
    "- Junior Libii junior.libii@facsciences-uy1.cm"
   ]
  },
  {
   "cell_type": "markdown",
   "id": "igKtTeiTXsYC",
   "metadata": {
    "id": "igKtTeiTXsYC"
   },
   "source": [
    "## binary naive bayes classification on sms dataset\n",
    "on s'interesse ici a la presence ou l'abscende d'un mot dans corpus pour pour determiner si c'est un spam ou un ham"
   ]
  },
  {
   "cell_type": "code",
   "execution_count": 1,
   "id": "1b523c02",
   "metadata": {
    "colab": {
     "base_uri": "https://localhost:8080/"
    },
    "id": "1b523c02",
    "outputId": "e7f64583-d5fd-4807-8bdb-14eea1c849d6"
   },
   "outputs": [
    {
     "name": "stdout",
     "output_type": "stream",
     "text": [
      "Installed kernelspec venv in /home/eugene/.local/share/jupyter/kernels/venv\n",
      "Requirement already satisfied: nltk in /home/eugene/anaconda3/lib/python3.9/site-packages (3.6.5)\n",
      "Requirement already satisfied: click in /home/eugene/anaconda3/lib/python3.9/site-packages (from nltk) (8.0.3)\n",
      "Requirement already satisfied: joblib in /home/eugene/anaconda3/lib/python3.9/site-packages (from nltk) (1.1.0)\n",
      "Requirement already satisfied: regex>=2021.8.3 in /home/eugene/anaconda3/lib/python3.9/site-packages (from nltk) (2021.8.3)\n",
      "Requirement already satisfied: tqdm in /home/eugene/anaconda3/lib/python3.9/site-packages (from nltk) (4.62.3)\n"
     ]
    }
   ],
   "source": [
    "# load tools\n",
    "# -*- coding: utf-8 -*-\n",
    "!python -m ipykernel install --user --name=venv\n",
    "!pip install nltk"
   ]
  },
  {
   "cell_type": "code",
   "execution_count": 4,
   "id": "964ab35b",
   "metadata": {
    "colab": {
     "base_uri": "https://localhost:8080/"
    },
    "id": "964ab35b",
    "outputId": "f8b3ea8e-b379-4995-eed8-bec50af94671"
   },
   "outputs": [],
   "source": [
    "import os.path\n",
    "from os import path\n",
    "import getpass\n",
    "filepath = ''\n",
    "REPOPATH = 'fez2000/TP_4248.git'\n",
    "FILENAME= 'spam.csv'\n",
    "HOST='github.com'\n",
    "if path.exists(f'./{FILENAME}'):\n",
    "    filepath = f'./{FILENAME}'\n",
    "elif path.exists(f'./datas/{FILENAME}'):\n",
    "    filepath = f'./datas/{FILENAME}'\n",
    "else:\n",
    "    filepath = f'./datas/{FILENAME}'\n",
    "    def load_from_git():\n",
    "        def clone(): \n",
    "            GIT_PATH = f'https://{HOST}/{REPOPATH}' \n",
    "            !git clone {GIT_PATH} 'temp'\n",
    "        def clone_by_token():\n",
    "            GIT_TOKEN= getpass.getpass(\"votre token git\") \n",
    "            GIT_PATH = f'https://{GIT_TOKEN}@{HOST}/{REPOPATH}' \n",
    "            !git clone {GIT_PATH} 'temp'\n",
    "        def clone_by_username_and_password():\n",
    "            GIT_USER_NAME= getpass.getpass(\"votre nom d'utilisateur git\")\n",
    "            GIT_PASSWORD= getpass.getpass(\"votre mot de pass git\")\n",
    "            GIT_PATH = f'https://{GIT_USER_NAME}:{GIT_PASSWORD}@{HOST}/{REPOPATH}'\n",
    "            !git  clone  {GIT_PATH} 'temp' \n",
    "        if not path.exists(f'./temp/datas/{FILENAME}'):\n",
    "            try:\n",
    "                clone()\n",
    "            except e:\n",
    "                pass\n",
    "        if not path.exists(f'./temp/datas/{FILENAME}'):\n",
    "            try:\n",
    "                clone_by_username_and_password()\n",
    "            except e:\n",
    "                pass\n",
    "        if not path.exists(f'./temp/datas/{FILENAME}'):\n",
    "            try:\n",
    "                clone_by_token()\n",
    "            except e:\n",
    "                pass\n",
    "        if not path.exists(f'./temp/datas/{FILENAME}'):     \n",
    "            load_from_git()\n",
    "        else:\n",
    "            %cd './temp'\n",
    "\n",
    "    load_from_git()\n"
   ]
  },
  {
   "cell_type": "code",
   "execution_count": 5,
   "id": "849c615a",
   "metadata": {
    "id": "849c615a"
   },
   "outputs": [],
   "source": [
    "\n",
    "import pandas as pd\n",
    "import re\n",
    "import numpy as np\n",
    "dataset = pd.read_csv(filepath, encoding=\"ISO-8859-1\", usecols=['v1', 'v2'], dtype={'v1':str,'v2':str})\n",
    "dataset.head()\n",
    "dataset = dataset.dropna(how=\"any\")\n",
    "dataset = dataset.rename(columns={\"v1\": \"target\"})\n",
    "\n",
    "\n"
   ]
  },
  {
   "cell_type": "code",
   "execution_count": 6,
   "id": "b389905d",
   "metadata": {
    "colab": {
     "base_uri": "https://localhost:8080/"
    },
    "id": "b389905d",
    "outputId": "6df063cf-ebed-4c33-b635-4f4b6965cb7b"
   },
   "outputs": [
    {
     "name": "stderr",
     "output_type": "stream",
     "text": [
      "[nltk_data] Downloading package stopwords to /home/eugene/nltk_data...\n",
      "[nltk_data]   Package stopwords is already up-to-date!\n"
     ]
    }
   ],
   "source": [
    "\n",
    "import nltk\n",
    "nltk.download('stopwords')\n",
    "# ensemble de mots sans sens pas utilise pour la pertinence\n",
    "# cette suppression offre un gain temps \n",
    "stopwords = nltk.corpus.stopwords.words('english')\n",
    "\n",
    "#importing the Stemming function from nltk library\n",
    "from nltk.stem.porter import PorterStemmer\n",
    "#defining the object for stemming\n",
    "porter_stemmer = PorterStemmer()\n",
    "\n",
    "\n",
    "\n"
   ]
  },
  {
   "cell_type": "code",
   "execution_count": 7,
   "id": "f2i5mXmcnXgU",
   "metadata": {
    "colab": {
     "base_uri": "https://localhost:8080/"
    },
    "id": "f2i5mXmcnXgU",
    "outputId": "f4338719-a643-412d-b5c4-57ba78e9b718"
   },
   "outputs": [
    {
     "name": "stderr",
     "output_type": "stream",
     "text": [
      "/home/eugene/anaconda3/lib/python3.9/site-packages/numpy/core/_asarray.py:102: VisibleDeprecationWarning: Creating an ndarray from ragged nested sequences (which is a list-or-tuple of lists-or-tuples-or ndarrays with different lengths or shapes) is deprecated. If you meant to do this, you must specify 'dtype=object' when creating the ndarray.\n",
      "  return array(a, dtype, copy=False, order=order)\n"
     ]
    }
   ],
   "source": [
    "def tonkenizer(text):\n",
    "    return re.sub(r\"[^a-zA-Z0-9]\", \" \", text.lower().strip()).split()\n",
    "def remove_stopwords(text):\n",
    "    return[i for i in text if i not in stopwords]\n",
    "# la lematisation reduit la taille du vecteur resultat et augmente la pertinence du model \n",
    "def stemming(text):\n",
    "    stem_text = [porter_stemmer.stem(word) for word in text]\n",
    "    return stem_text\n",
    "\n",
    "def cleantext (text):\n",
    "    return stemming(remove_stopwords(tonkenizer(text)))\n",
    "def clean_and_binarise_text(row):\n",
    "    return   [(row[0] == 'ham' and 1) or 0 , cleantext(row[1])]    \n",
    "\n",
    "dataset_r = dataset.apply(clean_and_binarise_text, axis=1, result_type='broadcast')\n"
   ]
  },
  {
   "cell_type": "code",
   "execution_count": null,
   "id": "761350f3",
   "metadata": {
    "id": "761350f3"
   },
   "outputs": [],
   "source": [
    "wordset = [] \n",
    "def creer_wordset(words): \n",
    "    global wordset\n",
    "    wordset = np.union1d(wordset, words)\n",
    "dataset_r.v2.apply(creer_wordset);\n",
    "\n"
   ]
  },
  {
   "cell_type": "code",
   "execution_count": null,
   "id": "425680fa",
   "metadata": {
    "id": "425680fa"
   },
   "outputs": [],
   "source": [
    "dataset = []\n",
    "dataset_x = []\n",
    "dataset_y = []\n",
    "def vectorisation(l_doc):\n",
    "    global wordset\n",
    "    tf_diz = dict.fromkeys(wordset,0)\n",
    "    for word in l_doc:\n",
    "        tf_diz[word]=l_doc.count(word)\n",
    "    return pd.Series(tf_diz.values(), index=tf_diz.keys()) \n",
    "\n",
    "\n",
    "dataset_x = pd.DataFrame(dataset_r.v2.apply(vectorisation))\n",
    "#binarisation\n",
    "dataset_x[dataset_x > 0] = 1\n",
    "dataset_xy = dataset_x;\n",
    "dataset_xy['target'] = dataset_r.target\n",
    "dataset_xy.describe()\n",
    "dataset_x=[]"
   ]
  },
  {
   "cell_type": "code",
   "execution_count": null,
   "id": "d9416a78",
   "metadata": {
    "id": "d9416a78"
   },
   "outputs": [],
   "source": [
    "# split dataset\n",
    "split_index= int(len(dataset_xy)*2/3.)\n",
    "train_xy = dataset_xy.iloc[0:split_index]\n",
    "test_xy = dataset_xy.iloc[split_index:]\n",
    "dataset_r = []\n",
    "targets = np.union1d(train_xy['target'],[])\n",
    "(n,_) = train_xy.shape\n",
    "target_probs = train_xy['target'].value_counts()/float(n)"
   ]
  },
  {
   "cell_type": "code",
   "execution_count": null,
   "id": "e103e37f",
   "metadata": {
    "id": "e103e37f"
   },
   "outputs": [],
   "source": [
    "train_xy = train_xy.set_index(['target',train_xy.index])"
   ]
  },
  {
   "cell_type": "code",
   "execution_count": null,
   "id": "8ZRGfiHoZ1iE",
   "metadata": {
    "id": "8ZRGfiHoZ1iE"
   },
   "outputs": [],
   "source": [
    "temp = dict.fromkeys(targets,{})\n",
    "for target in targets:\n",
    "    (n,_) = (train_xy.loc[[target]]).shape\n",
    "    n = float(n)\n",
    "    temp[target] = dict.fromkeys(train_xy.columns,0)\n",
    "    for column in train_xy.columns:\n",
    "        temp[target][column] = (train_xy.loc[[target]])[column] .value_counts()/ n;"
   ]
  },
  {
   "cell_type": "code",
   "execution_count": null,
   "id": "_i8eOJ_BdVsB",
   "metadata": {
    "id": "_i8eOJ_BdVsB"
   },
   "outputs": [],
   "source": [
    "def predict (x): \n",
    "    output = dict.fromkeys(targets,0)\n",
    "    for target in targets:\n",
    "    i = 0\n",
    "    prob = 1\n",
    "    for column in train_xy.columns:\n",
    "        try:\n",
    "            prob *= temp[target][column][x[i]];\n",
    "        except Exception as e:\n",
    "            prob = 0\n",
    "        break\n",
    "        i = i + 1\n",
    "        output[target] = prob * target_probs[target]\n",
    "    return output\n",
    "\n",
    "    \n",
    "    "
   ]
  },
  {
   "cell_type": "code",
   "execution_count": null,
   "id": "UMabeOq_z0Fq",
   "metadata": {
    "id": "UMabeOq_z0Fq"
   },
   "outputs": [],
   "source": [
    "from pandas.core.frame import DataFrame\n",
    "def predict_classe(x):\n",
    "    classe = predict(x)\n",
    "    return max(classe, key=classe.get)\n",
    "def confusion_matrix (test_dataset):\n",
    "    output = DataFrame(np.zeros((targets.shape[0],targets.shape[0])), columns=targets,index=targets)  \n",
    "    for i in test_dataset.index:\n",
    "        row = test_dataset.loc[i] \n",
    "    output.loc[row.target][predict_classe(row.values)] += 1\n",
    "    return output\n",
    "    "
   ]
  },
  {
   "cell_type": "code",
   "execution_count": null,
   "id": "_Kp_QiXmXxVg",
   "metadata": {
    "colab": {
     "base_uri": "https://localhost:8080/"
    },
    "id": "_Kp_QiXmXxVg",
    "outputId": "17cd58f7-e3b0-458e-8167-945a0c333e45"
   },
   "outputs": [],
   "source": [
    "\n",
    "m = confusion_matrix(test_xy)\n",
    "\n"
   ]
  },
  {
   "cell_type": "code",
   "execution_count": null,
   "id": "C1WSgENPJenF",
   "metadata": {
    "colab": {
     "base_uri": "https://localhost:8080/"
    },
    "id": "C1WSgENPJenF",
    "outputId": "1ff768a1-126f-4c68-9dd5-416bf9b6b5c0"
   },
   "outputs": [],
   "source": [
    "ac = m.to_numpy().trace()/(m.sum().sum())\n",
    "print(f'accurancy  est {ac}')\n",
    "for target in targets:\n",
    "    p = m.iloc[target][target]/m[target].sum();\n",
    "    r = m.iloc[target][target]/m.iloc[target].sum();\n",
    "    f = 2*r*p/(r+p)\n",
    "    print(f'f mesure {target} est {f}')\n",
    "    print(f'precision pour {target} est {p}')\n",
    "    print(f'recall pour {target} est {p}')"
   ]
  }
 ],
 "metadata": {
  "colab": {
   "name": "Copie de binary_naive_bayes.ipynb",
   "provenance": []
  },
  "kernelspec": {
   "display_name": "venv",
   "language": "python",
   "name": "venv"
  },
  "language_info": {
   "codemirror_mode": {
    "name": "ipython",
    "version": 3
   },
   "file_extension": ".py",
   "mimetype": "text/x-python",
   "name": "python",
   "nbconvert_exporter": "python",
   "pygments_lexer": "ipython3",
   "version": "3.9.7"
  }
 },
 "nbformat": 4,
 "nbformat_minor": 5
}
