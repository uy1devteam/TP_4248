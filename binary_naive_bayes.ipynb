{
 "cells": [
  {
   "cell_type": "markdown",
   "id": "040b179b",
   "metadata": {
    "id": "040b179b"
   },
   "source": [
    "# TP 4248 2021-2022 \n",
    "## les membres du groupe\n",
    "- fezeu Ghomsi Eugene Clotaire 17Q2864 \n",
    "- Nono Mabou Wilfried Brondon 21S2817 brondonnono3@gmail.com\n",
    "- NGBAYAFOU NGOUH Chéripha Cheriphalynette@gmail.com\n",
    "- Junior Libii junior.libii@facsciences-uy1.cm"
   ]
  },
  {
   "cell_type": "markdown",
   "id": "igKtTeiTXsYC",
   "metadata": {
    "id": "igKtTeiTXsYC"
   },
   "source": [
    "## binary naive bayes classification on sms dataset\n"
   ]
  },
  {
   "cell_type": "code",
   "execution_count": 41,
   "id": "849c615a",
   "metadata": {
    "colab": {
     "base_uri": "https://localhost:8080/",
     "height": 527
    },
    "id": "849c615a",
    "outputId": "8f83b6dd-8c64-4f37-f6f1-6156930d9451"
   },
   "outputs": [],
   "source": [
    "\n",
    "import pandas as pd\n",
    "import re\n",
    "import numpy as np\n",
    "\n",
    "dataset = pd.read_csv(\"./datas/spam.csv\", encoding=\"ISO-8859-1\", usecols=['v1', 'v2'], dtype={'v1':str,'v2':str})\n",
    "dataset.head()\n",
    "dataset = dataset.dropna(how=\"any\")\n",
    "\n",
    "\n"
   ]
  },
  {
   "cell_type": "code",
   "execution_count": 35,
   "id": "bab147d1",
   "metadata": {},
   "outputs": [
    {
     "name": "stdout",
     "output_type": "stream",
     "text": [
      "Requirement already satisfied: nltk in /home/eugene/.local/lib/python3.8/site-packages (3.7)\n",
      "Requirement already satisfied: tqdm in /home/eugene/.local/lib/python3.8/site-packages (from nltk) (4.61.0)\n",
      "Requirement already satisfied: click in /usr/lib/python3/dist-packages (from nltk) (7.0)\n",
      "Requirement already satisfied: regex>=2021.8.3 in /home/eugene/.local/lib/python3.8/site-packages (from nltk) (2022.3.15)\n",
      "Requirement already satisfied: joblib in /home/eugene/.local/lib/python3.8/site-packages (from nltk) (1.0.1)\n"
     ]
    },
    {
     "name": "stderr",
     "output_type": "stream",
     "text": [
      "[nltk_data] Downloading package stopwords to /home/eugene/nltk_data...\n",
      "[nltk_data]   Package stopwords is already up-to-date!\n"
     ]
    }
   ],
   "source": [
    "!pip install nltk\n",
    "import nltk\n",
    "nltk.download('stopwords')\n",
    "# ensemble de mots sans sens pas utilise pour la pertinence\n",
    "# cette suppression offre un gain temps \n",
    "stopwords = nltk.corpus.stopwords.words('english')\n",
    "\n",
    "#importing the Stemming function from nltk library\n",
    "from nltk.stem.porter import PorterStemmer\n",
    "#defining the object for stemming\n",
    "porter_stemmer = PorterStemmer()\n",
    "\n",
    "\n",
    "\n"
   ]
  },
  {
   "cell_type": "code",
   "execution_count": 51,
   "id": "f2i5mXmcnXgU",
   "metadata": {
    "colab": {
     "base_uri": "https://localhost:8080/",
     "height": 1000
    },
    "id": "f2i5mXmcnXgU",
    "outputId": "d3c3ea08-0b99-46db-d0a8-36754418f7dc"
   },
   "outputs": [
    {
     "name": "stderr",
     "output_type": "stream",
     "text": [
      "/home/eugene/.local/lib/python3.8/site-packages/numpy/core/_asarray.py:83: VisibleDeprecationWarning: Creating an ndarray from ragged nested sequences (which is a list-or-tuple of lists-or-tuples-or ndarrays with different lengths or shapes) is deprecated. If you meant to do this, you must specify 'dtype=object' when creating the ndarray\n",
      "  return array(a, dtype, copy=False, order=order)\n"
     ]
    },
    {
     "data": {
      "text/html": [
       "<div>\n",
       "<style scoped>\n",
       "    .dataframe tbody tr th:only-of-type {\n",
       "        vertical-align: middle;\n",
       "    }\n",
       "\n",
       "    .dataframe tbody tr th {\n",
       "        vertical-align: top;\n",
       "    }\n",
       "\n",
       "    .dataframe thead th {\n",
       "        text-align: right;\n",
       "    }\n",
       "</style>\n",
       "<table border=\"1\" class=\"dataframe\">\n",
       "  <thead>\n",
       "    <tr style=\"text-align: right;\">\n",
       "      <th></th>\n",
       "      <th>v1</th>\n",
       "      <th>v2</th>\n",
       "    </tr>\n",
       "  </thead>\n",
       "  <tbody>\n",
       "    <tr>\n",
       "      <th>0</th>\n",
       "      <td>1</td>\n",
       "      <td>[go, jurong, point, crazi, avail, bugi, n, gre...</td>\n",
       "    </tr>\n",
       "    <tr>\n",
       "      <th>1</th>\n",
       "      <td>1</td>\n",
       "      <td>[ok, lar, joke, wif, u, oni]</td>\n",
       "    </tr>\n",
       "    <tr>\n",
       "      <th>2</th>\n",
       "      <td>0</td>\n",
       "      <td>[free, entri, 2, wkli, comp, win, fa, cup, fin...</td>\n",
       "    </tr>\n",
       "    <tr>\n",
       "      <th>3</th>\n",
       "      <td>1</td>\n",
       "      <td>[u, dun, say, earli, hor, u, c, alreadi, say]</td>\n",
       "    </tr>\n",
       "    <tr>\n",
       "      <th>4</th>\n",
       "      <td>1</td>\n",
       "      <td>[nah, think, goe, usf, live, around, though]</td>\n",
       "    </tr>\n",
       "    <tr>\n",
       "      <th>...</th>\n",
       "      <td>...</td>\n",
       "      <td>...</td>\n",
       "    </tr>\n",
       "    <tr>\n",
       "      <th>5567</th>\n",
       "      <td>0</td>\n",
       "      <td>[2nd, time, tri, 2, contact, u, u, 750, pound,...</td>\n",
       "    </tr>\n",
       "    <tr>\n",
       "      <th>5568</th>\n",
       "      <td>1</td>\n",
       "      <td>[b, go, esplanad, fr, home]</td>\n",
       "    </tr>\n",
       "    <tr>\n",
       "      <th>5569</th>\n",
       "      <td>1</td>\n",
       "      <td>[piti, mood, suggest]</td>\n",
       "    </tr>\n",
       "    <tr>\n",
       "      <th>5570</th>\n",
       "      <td>1</td>\n",
       "      <td>[guy, bitch, act, like, interest, buy, someth,...</td>\n",
       "    </tr>\n",
       "    <tr>\n",
       "      <th>5571</th>\n",
       "      <td>1</td>\n",
       "      <td>[rofl, true, name]</td>\n",
       "    </tr>\n",
       "  </tbody>\n",
       "</table>\n",
       "<p>5572 rows × 2 columns</p>\n",
       "</div>"
      ],
      "text/plain": [
       "     v1                                                 v2\n",
       "0     1  [go, jurong, point, crazi, avail, bugi, n, gre...\n",
       "1     1                       [ok, lar, joke, wif, u, oni]\n",
       "2     0  [free, entri, 2, wkli, comp, win, fa, cup, fin...\n",
       "3     1      [u, dun, say, earli, hor, u, c, alreadi, say]\n",
       "4     1       [nah, think, goe, usf, live, around, though]\n",
       "...  ..                                                ...\n",
       "5567  0  [2nd, time, tri, 2, contact, u, u, 750, pound,...\n",
       "5568  1                        [b, go, esplanad, fr, home]\n",
       "5569  1                              [piti, mood, suggest]\n",
       "5570  1  [guy, bitch, act, like, interest, buy, someth,...\n",
       "5571  1                                 [rofl, true, name]\n",
       "\n",
       "[5572 rows x 2 columns]"
      ]
     },
     "execution_count": 51,
     "metadata": {},
     "output_type": "execute_result"
    }
   ],
   "source": [
    "def tonkenizer(text):\n",
    "    return re.sub(r\"[^a-zA-Z0-9]\", \" \", text.lower().strip()).split()\n",
    "def remove_stopwords(text):\n",
    "    return[i for i in text if i not in stopwords]\n",
    "#defining a function for stemming\n",
    "def stemming(text):\n",
    "    stem_text = [porter_stemmer.stem(word) for word in text]\n",
    "    return stem_text\n",
    "\n",
    "def cleantext (text):\n",
    "    return stemming(remove_stopwords(tonkenizer(text)))\n",
    "def clean_and_binarise_text(row):\n",
    "    return   [(row[0] == 'ham' and 1) or 0 , cleantext(row[1])]    \n",
    "\n",
    "dataset_r = dataset.apply(clean_and_binarise_text, axis=1, result_type='broadcast')\n",
    "dataset_r"
   ]
  },
  {
   "cell_type": "code",
   "execution_count": null,
   "id": "8f708688",
   "metadata": {},
   "outputs": [],
   "source": []
  }
 ],
 "metadata": {
  "colab": {
   "name": "Copie de binary_naive_bayes.ipynb",
   "provenance": []
  },
  "kernelspec": {
   "display_name": "Python 3",
   "language": "python",
   "name": "python3"
  },
  "language_info": {
   "codemirror_mode": {
    "name": "ipython",
    "version": 3
   },
   "file_extension": ".py",
   "mimetype": "text/x-python",
   "name": "python",
   "nbconvert_exporter": "python",
   "pygments_lexer": "ipython3",
   "version": "3.8.10"
  }
 },
 "nbformat": 4,
 "nbformat_minor": 5
}
