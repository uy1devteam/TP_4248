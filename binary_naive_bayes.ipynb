{
  "cells": [
    {
      "cell_type": "markdown",
      "id": "040b179b",
      "metadata": {
        "id": "040b179b"
      },
      "source": [
        "# TP 4248 2021-2022 \n",
        "## les membres du groupe\n",
        "- fezeu Ghomsi Eugene Clotaire 17Q2864 \n",
        "- Nono Mabou Wilfried Brondon 21S2817 brondonnono3@gmail.com\n",
        "- NGBAYAFOU NGOUH Chéripha Cheriphalynette@gmail.com\n",
        "- Junior Libii junior.libii@facsciences-uy1.cm"
      ]
    },
    {
      "cell_type": "markdown",
      "source": [
        "## binary naive bayes classification on sms dataset\n"
      ],
      "metadata": {
        "id": "igKtTeiTXsYC"
      },
      "id": "igKtTeiTXsYC"
    },
    {
      "cell_type": "code",
      "execution_count": null,
      "id": "849c615a",
      "metadata": {
        "id": "849c615a"
      },
      "outputs": [],
      "source": [
        ""
      ]
    }
  ],
  "metadata": {
    "kernelspec": {
      "display_name": "Python 3",
      "language": "python",
      "name": "python3"
    },
    "language_info": {
      "codemirror_mode": {
        "name": "ipython",
        "version": 3
      },
      "file_extension": ".py",
      "mimetype": "text/x-python",
      "name": "python",
      "nbconvert_exporter": "python",
      "pygments_lexer": "ipython3",
      "version": "3.8.10"
    },
    "colab": {
      "name": "binary_naive_bayes.ipynb",
      "provenance": []
    }
  },
  "nbformat": 4,
  "nbformat_minor": 5
}